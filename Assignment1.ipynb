{
 "cells": [
  {
   "cell_type": "code",
   "execution_count": 1,
   "id": "8ee7a2f2-c378-4438-9689-99a50439b89d",
   "metadata": {},
   "outputs": [],
   "source": [
    "# Assignment1. 9 may"
   ]
  },
  {
   "cell_type": "code",
   "execution_count": 2,
   "id": "cc1afb28-011a-4fa3-a0ae-d447774dd725",
   "metadata": {},
   "outputs": [],
   "source": [
    "#Question 1 "
   ]
  },
  {
   "cell_type": "code",
   "execution_count": 3,
   "id": "18d85a74-ae3c-42e1-ad3e-6627ab89993b",
   "metadata": {},
   "outputs": [],
   "source": [
    "a = \"Sandeep singh\""
   ]
  },
  {
   "cell_type": "code",
   "execution_count": 4,
   "id": "12730fee-42a2-4c50-b510-a13d595aa149",
   "metadata": {},
   "outputs": [],
   "source": [
    "b = [1,2,3,\"sandeep singh\"]"
   ]
  },
  {
   "cell_type": "code",
   "execution_count": 5,
   "id": "b8a1dfd1-72f6-4d9e-9df4-f5463357ec57",
   "metadata": {},
   "outputs": [],
   "source": [
    "c = 135.22"
   ]
  },
  {
   "cell_type": "code",
   "execution_count": 6,
   "id": "229c844e-ff56-4ef9-8b41-81d15814828a",
   "metadata": {},
   "outputs": [],
   "source": [
    "d = (8,\"I am sandeep\", 7.9)"
   ]
  },
  {
   "cell_type": "code",
   "execution_count": 7,
   "id": "06f24d2f-6f30-48e3-9054-6c0ed87ca4c4",
   "metadata": {},
   "outputs": [
    {
     "name": "stdout",
     "output_type": "stream",
     "text": [
      "<class 'str'> <class 'list'> <class 'float'> <class 'tuple'>\n"
     ]
    }
   ],
   "source": [
    "print(type(a), type(b), type(c), type(d))"
   ]
  },
  {
   "cell_type": "code",
   "execution_count": 8,
   "id": "813a25f2-ba12-4cf9-8f15-1c95ff68d64c",
   "metadata": {},
   "outputs": [],
   "source": [
    "# Question 2"
   ]
  },
  {
   "cell_type": "code",
   "execution_count": 9,
   "id": "066c1f79-5272-4a1b-92e1-3efd8bcfde19",
   "metadata": {},
   "outputs": [],
   "source": [
    "var1 = \" \""
   ]
  },
  {
   "cell_type": "code",
   "execution_count": 10,
   "id": "fe5a892c-179a-4752-8110-3df6569fbf5e",
   "metadata": {},
   "outputs": [
    {
     "name": "stdout",
     "output_type": "stream",
     "text": [
      "<class 'str'>\n"
     ]
    }
   ],
   "source": [
    "print(type(var1))"
   ]
  },
  {
   "cell_type": "code",
   "execution_count": 11,
   "id": "e1ede0a0-2651-47ad-9172-bebcd058e719",
   "metadata": {},
   "outputs": [],
   "source": [
    " # var2 = [ DS , ML , Python]\n",
    "    #In a 2nd this is wrong list because DS is not defined."
   ]
  },
  {
   "cell_type": "code",
   "execution_count": 12,
   "id": "eddc51c4-2108-45ed-b1f6-b50d62f714e1",
   "metadata": {},
   "outputs": [],
   "source": [
    "var3 = ['DS' , 'ML' , 'Python' ]  # var3 = [ ‘DS’ , ’ML’ , ‘Python’ ] 3rd one is also incorrect. but i correct it."
   ]
  },
  {
   "cell_type": "code",
   "execution_count": 13,
   "id": "73663222-a93e-4870-8e04-a6ecf242efa1",
   "metadata": {},
   "outputs": [
    {
     "name": "stdout",
     "output_type": "stream",
     "text": [
      "<class 'list'>\n"
     ]
    }
   ],
   "source": [
    "print(type(var3))"
   ]
  },
  {
   "cell_type": "code",
   "execution_count": 14,
   "id": "fd2263a5-c20f-4382-864c-40b6612b4f57",
   "metadata": {},
   "outputs": [],
   "source": [
    "var4 = 1.  # var4 contain float."
   ]
  },
  {
   "cell_type": "code",
   "execution_count": 15,
   "id": "cbfbd4ff-ecdc-4836-89e4-e9daae925c6f",
   "metadata": {},
   "outputs": [
    {
     "name": "stdout",
     "output_type": "stream",
     "text": [
      "<class 'float'>\n"
     ]
    }
   ],
   "source": [
    "print(type(var4))"
   ]
  },
  {
   "cell_type": "code",
   "execution_count": 16,
   "id": "0b6a8c01-e301-497a-8303-235faf4af01c",
   "metadata": {},
   "outputs": [],
   "source": [
    "# Question 3. Explain the use of the following operators using an example:"
   ]
  },
  {
   "cell_type": "code",
   "execution_count": 17,
   "id": "e891ce10-fb0b-4d5a-b324-8e712af23104",
   "metadata": {},
   "outputs": [],
   "source": [
    "#3(1) / = This operator is a part of airthmetic operator. it is used to division. for example."
   ]
  },
  {
   "cell_type": "code",
   "execution_count": 18,
   "id": "7451c628-5521-4742-9ece-1fa918b869fc",
   "metadata": {},
   "outputs": [
    {
     "name": "stdout",
     "output_type": "stream",
     "text": [
      "4.0\n"
     ]
    }
   ],
   "source": [
    "x = 12\n",
    "y = 3\n",
    "\n",
    "print(x / y)"
   ]
  },
  {
   "cell_type": "code",
   "execution_count": 19,
   "id": "0e6be730-86fd-4b79-a10e-5f113e014d14",
   "metadata": {},
   "outputs": [],
   "source": [
    "#3(2). % = modules operator. it will give us a reminder."
   ]
  },
  {
   "cell_type": "code",
   "execution_count": 20,
   "id": "dfef5245-5b16-4f41-bfcb-31497a66bb96",
   "metadata": {},
   "outputs": [
    {
     "name": "stdout",
     "output_type": "stream",
     "text": [
      "1\n"
     ]
    }
   ],
   "source": [
    "x = 15\n",
    "y = 2\n",
    "\n",
    "print(x % y)\n"
   ]
  },
  {
   "cell_type": "code",
   "execution_count": 21,
   "id": "d1438355-1f96-4120-b8b6-fe10316ddb1d",
   "metadata": {},
   "outputs": [],
   "source": [
    "#3(3). // = Floor division is an operation in Python that divides two numbers and rounds the result down to the nearest integer."
   ]
  },
  {
   "cell_type": "code",
   "execution_count": 22,
   "id": "b7605b67-59a8-43b6-ba7d-cbba6d8f5f32",
   "metadata": {},
   "outputs": [
    {
     "name": "stdout",
     "output_type": "stream",
     "text": [
      "7\n"
     ]
    }
   ],
   "source": [
    "x = 15\n",
    "y = 2\n",
    "\n",
    "print(x // y)"
   ]
  },
  {
   "cell_type": "code",
   "execution_count": 23,
   "id": "75e4493f-665c-4206-855c-5b5b57e9df30",
   "metadata": {},
   "outputs": [],
   "source": [
    "#3(4). ** = This operator is exponent operator. this operator use as a power of 1st number.for example"
   ]
  },
  {
   "cell_type": "code",
   "execution_count": 24,
   "id": "b96a497f-feaa-4fe3-8993-b015f052a06d",
   "metadata": {},
   "outputs": [
    {
     "name": "stdout",
     "output_type": "stream",
     "text": [
      "32\n"
     ]
    }
   ],
   "source": [
    "x = 2\n",
    "y = 5\n",
    "print(2 ** 5)\n",
    "# In this operator multiply 2 as a 2*2*2*2*2."
   ]
  },
  {
   "cell_type": "code",
   "execution_count": 25,
   "id": "32c74061-19fc-4418-a354-65b105371148",
   "metadata": {},
   "outputs": [
    {
     "data": {
      "text/plain": [
       "'Question 4.Create a list of length 10 of your choice containing multiple types of data. Using for loop print the\\n   element and its data type.'"
      ]
     },
     "execution_count": 25,
     "metadata": {},
     "output_type": "execute_result"
    }
   ],
   "source": [
    "'''Question 4.Create a list of length 10 of your choice containing multiple types of data. Using for loop print the\n",
    "   element and its data type.'''"
   ]
  },
  {
   "cell_type": "code",
   "execution_count": 26,
   "id": "c80f5e15-ac9b-463f-885c-85bf7d3ef445",
   "metadata": {},
   "outputs": [
    {
     "name": "stdout",
     "output_type": "stream",
     "text": [
      "Hello\n",
      "<class 'str'>\n",
      "PW\n",
      "<class 'str'>\n",
      "2.0\n",
      "<class 'float'>\n",
      "mango\n",
      "<class 'str'>\n",
      "True\n",
      "<class 'bool'>\n",
      "54\n",
      "<class 'int'>\n",
      "36\n",
      "<class 'int'>\n",
      "(10+2j)\n",
      "<class 'complex'>\n",
      "sandeep\n",
      "<class 'str'>\n",
      " \n",
      "<class 'str'>\n"
     ]
    }
   ],
   "source": [
    "ls = [\"Hello\", \"PW\", 2.0, \"mango\", True, 54,36, 10+2j, \"sandeep\", \" \"]\n",
    "for i in ls:\n",
    "    print(i)\n",
    "    if i == 9:\n",
    "        continue\n",
    "    print(type(i))"
   ]
  },
  {
   "cell_type": "code",
   "execution_count": 27,
   "id": "f9bb8170-0729-44b6-aa16-8ef202005a1f",
   "metadata": {},
   "outputs": [
    {
     "data": {
      "text/plain": [
       "'Q5. Using a while loop, verify if the number A is purely divisible by number B and if so then how many\\ntimes it can be divisible.'"
      ]
     },
     "execution_count": 27,
     "metadata": {},
     "output_type": "execute_result"
    }
   ],
   "source": [
    "\"\"\"Q5. Using a while loop, verify if the number A is purely divisible by number B and if so then how many\n",
    "times it can be divisible.\"\"\""
   ]
  },
  {
   "cell_type": "code",
   "execution_count": 28,
   "id": "18aaf599-9f9c-4ace-9ea0-ed9285a8c5a9",
   "metadata": {},
   "outputs": [
    {
     "name": "stdin",
     "output_type": "stream",
     "text": [
      "Enter the value of A:  20\n",
      "Enter the value of B:  10\n"
     ]
    },
    {
     "name": "stdout",
     "output_type": "stream",
     "text": [
      "A is purely divisible by B\n",
      "A can be divisible by B 1 times\n"
     ]
    }
   ],
   "source": [
    "A = int(input(\"Enter the value of A: \"))\n",
    "B = int(input(\"Enter the value of B: \"))\n",
    "\n",
    "count = 0\n",
    "while A%B == 0:\n",
    "    count +=1\n",
    "    A/=B\n",
    "if count > 0:\n",
    "    print(\"A is purely divisible by B\")\n",
    "    print(\"A can be divisible by B\",count, \"times\")\n",
    "else:\n",
    "    print(\"A is not purely divisible by B\")"
   ]
  },
  {
   "cell_type": "code",
   "execution_count": null,
   "id": "d102eabc-3571-4682-9ce2-320ed2aae86b",
   "metadata": {},
   "outputs": [],
   "source": [
    "\"\"\" Q6. Create a list containing 25 int type data. Using for loop and if-else condition print if the element is\n",
    "divisible by 3 or not. \"\"\""
   ]
  },
  {
   "cell_type": "code",
   "execution_count": 29,
   "id": "2198737a-f116-40f2-b229-3ef6b999191b",
   "metadata": {},
   "outputs": [
    {
     "name": "stdout",
     "output_type": "stream",
     "text": [
      "15 is divisible by 3\n",
      "6 is divisible by 3\n",
      "23 is not divisible by 3\n",
      "10 is not divisible by 3\n",
      "12 is divisible by 3\n",
      "17 is not divisible by 3\n",
      "21 is divisible by 3\n",
      "33 is divisible by 3\n",
      "69 is divisible by 3\n",
      "102 is divisible by 3\n",
      "73 is not divisible by 3\n",
      "354 is divisible by 3\n",
      "45 is divisible by 3\n",
      "13 is not divisible by 3\n",
      "46 is not divisible by 3\n",
      "49 is not divisible by 3\n",
      "31 is not divisible by 3\n",
      "86 is not divisible by 3\n",
      "103 is not divisible by 3\n",
      "2636 is not divisible by 3\n",
      "4654 is not divisible by 3\n",
      "334 is not divisible by 3\n",
      "7594 is not divisible by 3\n",
      "1343 is not divisible by 3\n",
      "18 is divisible by 3\n"
     ]
    }
   ],
   "source": [
    "my_list = [15, 6,23, 10, 12, 17, 21,33,69,102,73, 354, 45, 13, 46, 49, 31,86,103, 2636, 4654, 334, 7594, 1343, 18]\n",
    "\n",
    "for num in my_list:\n",
    "    if num % 3 == 0:\n",
    "        print(num,\"is divisible by 3\")\n",
    "    else:\n",
    "        print(num, \"is not divisible by 3\")"
   ]
  },
  {
   "cell_type": "code",
   "execution_count": null,
   "id": "73ca5c99-3c95-4d11-8321-54567050897a",
   "metadata": {},
   "outputs": [],
   "source": [
    "\"\"\" Q7. What do you understand about mutable and immutable data types? Give examples for both showing\n",
    "this property. \"\"\""
   ]
  },
  {
   "cell_type": "code",
   "execution_count": null,
   "id": "9b3a5d03-ddbb-4510-a821-2204b6afb4dc",
   "metadata": {},
   "outputs": [],
   "source": [
    "\"\"\" In python, mutable data types are those that can be changed or modified after they are created.\n",
    "While immutable data types can not be changed after  they are created.\n",
    "string and tuples are immutable.\n",
    "List, sets are mutable.\"\"\"\n"
   ]
  },
  {
   "cell_type": "code",
   "execution_count": 31,
   "id": "6ef79355-f7a0-4e08-aff3-9c5b3760f961",
   "metadata": {},
   "outputs": [
    {
     "ename": "TypeError",
     "evalue": "'str' object does not support item assignment",
     "output_type": "error",
     "traceback": [
      "\u001b[0;31m---------------------------------------------------------------------------\u001b[0m",
      "\u001b[0;31mTypeError\u001b[0m                                 Traceback (most recent call last)",
      "Cell \u001b[0;32mIn[31], line 3\u001b[0m\n\u001b[1;32m      1\u001b[0m \u001b[38;5;66;03m# Example of immutable dat types:\u001b[39;00m\n\u001b[1;32m      2\u001b[0m my_string \u001b[38;5;241m=\u001b[39m \u001b[38;5;124m\"\u001b[39m\u001b[38;5;124mHello\u001b[39m\u001b[38;5;124m\"\u001b[39m\n\u001b[0;32m----> 3\u001b[0m \u001b[43mmy_string\u001b[49m\u001b[43m[\u001b[49m\u001b[38;5;241;43m0\u001b[39;49m\u001b[43m]\u001b[49m \u001b[38;5;241m=\u001b[39m \u001b[38;5;124m\"\u001b[39m\u001b[38;5;124my\u001b[39m\u001b[38;5;124m\"\u001b[39m\n",
      "\u001b[0;31mTypeError\u001b[0m: 'str' object does not support item assignment"
     ]
    }
   ],
   "source": [
    "# Example of immutable dat types:\n",
    "my_string = \"Hello\"\n",
    "my_string[0] = \"y\" \n",
    "#TypeError: 'str' object does not support item assignment"
   ]
  },
  {
   "cell_type": "code",
   "execution_count": 32,
   "id": "7320bfba-fec1-4f1a-ab08-6e1aa0ddc996",
   "metadata": {},
   "outputs": [
    {
     "ename": "TypeError",
     "evalue": "'tuple' object does not support item assignment",
     "output_type": "error",
     "traceback": [
      "\u001b[0;31m---------------------------------------------------------------------------\u001b[0m",
      "\u001b[0;31mTypeError\u001b[0m                                 Traceback (most recent call last)",
      "Cell \u001b[0;32mIn[32], line 2\u001b[0m\n\u001b[1;32m      1\u001b[0m my_tuple \u001b[38;5;241m=\u001b[39m (\u001b[38;5;241m1\u001b[39m, \u001b[38;5;241m2\u001b[39m, \u001b[38;5;241m3\u001b[39m)\n\u001b[0;32m----> 2\u001b[0m \u001b[43mmy_tuple\u001b[49m\u001b[43m[\u001b[49m\u001b[38;5;241;43m0\u001b[39;49m\u001b[43m]\u001b[49m \u001b[38;5;241m=\u001b[39m \u001b[38;5;241m4\u001b[39m\n",
      "\u001b[0;31mTypeError\u001b[0m: 'tuple' object does not support item assignment"
     ]
    }
   ],
   "source": [
    "my_tuple = (1, 2, 3)\n",
    "my_tuple[0] = 4\n",
    "# TypeError: 'tuple' object does not support item assignment"
   ]
  },
  {
   "cell_type": "code",
   "execution_count": null,
   "id": "2181bc7f-1813-42f5-ab18-3de5ed15d434",
   "metadata": {},
   "outputs": [],
   "source": [
    "# Example of mutable datatypes"
   ]
  },
  {
   "cell_type": "code",
   "execution_count": 33,
   "id": "a152a6c4-8c8f-49d0-873c-c64a3062afff",
   "metadata": {},
   "outputs": [
    {
     "name": "stdout",
     "output_type": "stream",
     "text": [
      "[5, 2, 3]\n"
     ]
    }
   ],
   "source": [
    "my_ls = [1,2 ,3]\n",
    "my_ls[0] = 5\n",
    "print(my_ls) \n",
    "# list is modified."
   ]
  },
  {
   "cell_type": "code",
   "execution_count": null,
   "id": "755f3557-4d42-40cf-930d-1b45b6bcd2f3",
   "metadata": {},
   "outputs": [],
   "source": []
  }
 ],
 "metadata": {
  "kernelspec": {
   "display_name": "Python 3 (ipykernel)",
   "language": "python",
   "name": "python3"
  },
  "language_info": {
   "codemirror_mode": {
    "name": "ipython",
    "version": 3
   },
   "file_extension": ".py",
   "mimetype": "text/x-python",
   "name": "python",
   "nbconvert_exporter": "python",
   "pygments_lexer": "ipython3",
   "version": "3.10.8"
  }
 },
 "nbformat": 4,
 "nbformat_minor": 5
}
